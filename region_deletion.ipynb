{
 "cells": [
  {
   "cell_type": "code",
   "execution_count": 1,
   "metadata": {},
   "outputs": [
    {
     "name": "stderr",
     "output_type": "stream",
     "text": [
      "Using cache found in /Users/kiran/.cache/torch/hub/pytorch_vision_v0.10.0\n",
      "/Users/kiran/anaconda3/envs/5523Final/lib/python3.11/site-packages/torchvision/models/_utils.py:208: UserWarning: The parameter 'pretrained' is deprecated since 0.13 and may be removed in the future, please use 'weights' instead.\n",
      "  warnings.warn(\n",
      "/Users/kiran/anaconda3/envs/5523Final/lib/python3.11/site-packages/torchvision/models/_utils.py:223: UserWarning: Arguments other than a weight enum or `None` for 'weights' are deprecated since 0.13 and may be removed in the future. The current behavior is equivalent to passing `weights=ResNet18_Weights.IMAGENET1K_V1`. You can also use `weights=ResNet18_Weights.DEFAULT` to get the most up-to-date weights.\n",
      "  warnings.warn(msg)\n"
     ]
    }
   ],
   "source": [
    "import torch\n",
    "import torchvision.transforms as transforms\n",
    "from torchvision import datasets\n",
    "from torcheval.metrics import BinaryAccuracy, BinaryRecall, BinaryPrecision\n",
    "import torch.nn as nn\n",
    "import torch.optim as optim\n",
    "import torch.nn.functional as F\n",
    "from model import Net\n",
    "\n",
    "if torch.cuda.is_available():\n",
    "    torch.set_default_device('cuda')\n",
    "    device = torch.device('cuda')\n",
    "elif torch.backends.mps.is_available():\n",
    "    torch.set_default_device('mps')\n",
    "    device = torch.device('mps')\n",
    "else:\n",
    "    torch.set_default_device('cpu')\n",
    "    device = torch.device('cpu')\n",
    "\n",
    "torch.manual_seed(0)\n",
    "batch_size = 64"
   ]
  },
  {
   "cell_type": "code",
   "execution_count": 24,
   "metadata": {},
   "outputs": [],
   "source": [
    "erasing_transform = transforms.Compose(\n",
    "    [transforms.ToTensor(),\n",
    "     transforms.Resize((256, 256)),\n",
    "     transforms.RandomErasing(),\n",
    "     transforms.Normalize((0.5, 0.5, 0.5), (0.5, 0.5, 0.5))])\n",
    "\n",
    "transform = transforms.Compose(\n",
    "    [transforms.ToTensor(),\n",
    "     transforms.Resize((256, 256)),\n",
    "     transforms.Normalize((0.5, 0.5, 0.5), (0.5, 0.5, 0.5))])"
   ]
  },
  {
   "cell_type": "code",
   "execution_count": 25,
   "metadata": {},
   "outputs": [],
   "source": [
    "train = datasets.OxfordIIITPet(\"\", split=\"trainval\", transform=erasing_transform, target_types=\"binary-category\", download=True).__add__(datasets.OxfordIIITPet(\"\", split=\"trainval\", transform=transform, target_types=\"binary-category\", download=True))\n",
    "test = datasets.OxfordIIITPet(\"\", split=\"test\", transform=transform, target_types=\"binary-category\", download=True)"
   ]
  },
  {
   "cell_type": "code",
   "execution_count": 28,
   "metadata": {},
   "outputs": [],
   "source": [
    "model = torch.load('model.pth', map_location=device, weights_only=False).to(device)"
   ]
  },
  {
   "cell_type": "code",
   "execution_count": 29,
   "metadata": {},
   "outputs": [],
   "source": [
    "criterion = nn.BCELoss().to(device)\n",
    "optimizer = optim.SGD(model.parameters(), lr=0.001, momentum=0.9)\n",
    "metrics = {\"Accuracy\":BinaryAccuracy(device=device), \"Recall\": BinaryRecall(device=device), \"Precision\":BinaryPrecision(device=device)}"
   ]
  },
  {
   "cell_type": "code",
   "execution_count": 30,
   "metadata": {},
   "outputs": [],
   "source": [
    "trainloader = torch.utils.data.DataLoader(train, batch_size=batch_size, shuffle=True, generator=torch.Generator(device=device).manual_seed(0))"
   ]
  },
  {
   "cell_type": "code",
   "execution_count": 31,
   "metadata": {},
   "outputs": [
    {
     "name": "stdout",
     "output_type": "stream",
     "text": [
      "[1, 10/115] loss: 0.10239905714988709 Accuracy: 0.964 Recall: 0.976 Precision: 0.969 \n",
      "[1, 20/115] loss: 0.10004920810461045 Accuracy: 0.956 Recall: 0.968 Precision: 0.968 \n",
      "[1, 30/115] loss: 0.13408401794731617 Accuracy: 0.953 Recall: 0.971 Precision: 0.960 \n",
      "[1, 40/115] loss: 0.08397868014872074 Accuracy: 0.957 Recall: 0.970 Precision: 0.965 \n",
      "[1, 50/115] loss: 0.0795778676867485 Accuracy: 0.959 Recall: 0.972 Precision: 0.968 \n",
      "[1, 60/115] loss: 0.10301439184695482 Accuracy: 0.960 Recall: 0.974 Precision: 0.967 \n",
      "[1, 70/115] loss: 0.11131671108305455 Accuracy: 0.960 Recall: 0.973 Precision: 0.968 \n",
      "[1, 80/115] loss: 0.06792753376066685 Accuracy: 0.962 Recall: 0.974 Precision: 0.971 \n",
      "[1, 90/115] loss: 0.1049001483246684 Accuracy: 0.962 Recall: 0.975 Precision: 0.968 \n",
      "[1, 100/115] loss: 0.065762023255229 Accuracy: 0.963 Recall: 0.976 Precision: 0.970 \n",
      "[1, 110/115] loss: 0.09676657989621162 Accuracy: 0.963 Recall: 0.975 Precision: 0.970 \n",
      "[1, 115/115] loss: 0.09142168462276459 Accuracy: 0.963 Recall: 0.976 Precision: 0.970 \n"
     ]
    }
   ],
   "source": [
    "batches = len(trainloader)\n",
    "for epoch in range(1):\n",
    "    running_loss = 0.0\n",
    "    for i, data in enumerate(trainloader, 0):\n",
    "        inputs, labels = data\n",
    "        inputs, labels = inputs.to(device), labels.to(device).to(torch.float32)\n",
    "        optimizer.zero_grad()\n",
    "\n",
    "        outputs = model(inputs)\n",
    "        loss = criterion(outputs, labels)\n",
    "        loss.backward()\n",
    "        optimizer.step()\n",
    "\n",
    "        running_loss += loss.item()\n",
    "        for _,metric in metrics.items():\n",
    "            metric.update(outputs, labels.to(torch.long))\n",
    "        if i % 10 == 9 or i == batches - 1:\n",
    "            print(f'[{epoch + 1}, {i + 1}/{batches}] loss: {running_loss / (batches%10 if i == batches-1 else 10)}', end=' ')\n",
    "\n",
    "            for name,metric in metrics.items():\n",
    "                print(f'{name}: {metric.compute():.3f}', end=' ')\n",
    "            print()\n",
    "            running_loss = 0.0"
   ]
  },
  {
   "cell_type": "code",
   "execution_count": 32,
   "metadata": {},
   "outputs": [
    {
     "name": "stdout",
     "output_type": "stream",
     "text": [
      "[10/58] Accuracy: 0.700 Recall: 0.892 Precision: 0.706 \n",
      "[20/58] Accuracy: 0.677 Recall: 0.924 Precision: 0.641 \n",
      "[30/58] Accuracy: 0.735 Recall: 0.889 Precision: 0.767 \n",
      "[40/58] Accuracy: 0.736 Recall: 0.886 Precision: 0.769 \n",
      "[50/58] Accuracy: 0.733 Recall: 0.886 Precision: 0.763 \n",
      "[58/58] Accuracy: 0.718 Recall: 0.881 Precision: 0.748 \n"
     ]
    }
   ],
   "source": [
    "testloader = torch.utils.data.DataLoader(test, batch_size=batch_size, shuffle=False)\n",
    "for name,metric in metrics.items():\n",
    "    metric.reset()\n",
    "batches = len(testloader)\n",
    "for i, data in enumerate(testloader, 0):\n",
    "    inputs, labels = data\n",
    "    inputs, labels = inputs.to(device), labels.to(device).to(torch.float32)\n",
    "    outputs = model(inputs)\n",
    "    for _,metric in metrics.items():\n",
    "        metric.update(outputs, labels.to(torch.int64))\n",
    "    if i % 10 == 9 or i == batches - 1:\n",
    "        print(f'[{i + 1}/{batches}]', end=' ')\n",
    "        for name,metric in metrics.items():\n",
    "            print(f'{name}: {metric.compute():.3f}', end=' ')\n",
    "        print()"
   ]
  }
 ],
 "metadata": {
  "kernelspec": {
   "display_name": "5523Final",
   "language": "python",
   "name": "python3"
  },
  "language_info": {
   "codemirror_mode": {
    "name": "ipython",
    "version": 3
   },
   "file_extension": ".py",
   "mimetype": "text/x-python",
   "name": "python",
   "nbconvert_exporter": "python",
   "pygments_lexer": "ipython3",
   "version": "3.11.11"
  }
 },
 "nbformat": 4,
 "nbformat_minor": 2
}
