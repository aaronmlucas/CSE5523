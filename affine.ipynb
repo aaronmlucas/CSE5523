{
 "cells": [
  {
   "cell_type": "code",
   "execution_count": 52,
   "metadata": {},
   "outputs": [],
   "source": [
    "import torch\n",
    "import torchvision.transforms as transforms\n",
    "from torchvision import datasets\n",
    "from torcheval.metrics import BinaryAccuracy, BinaryRecall, BinaryPrecision\n",
    "import torch.nn as nn\n",
    "import torch.optim as optim\n",
    "import torch.nn.functional as F\n",
    "from model import Net\n",
    "\n",
    "if torch.cuda.is_available():\n",
    "    torch.set_default_device('cuda')\n",
    "    device = torch.device('cuda')\n",
    "elif torch.backends.mps.is_available():\n",
    "    torch.set_default_device('mps')\n",
    "    device = torch.device('mps')\n",
    "else:\n",
    "    torch.set_default_device('cpu')\n",
    "    device = torch.device('cpu')\n",
    "\n",
    "torch.manual_seed(0)\n",
    "batch_size = 64"
   ]
  },
  {
   "cell_type": "code",
   "execution_count": 53,
   "metadata": {},
   "outputs": [],
   "source": [
    "affine_transform = transforms.Compose(\n",
    "    [transforms.ToTensor(),\n",
    "     transforms.Resize((256, 256)),\n",
    "     transforms.RandomAffine(degrees=(180,180), translate=(0.1, 0.1), scale=(0.8, 1.2)),\n",
    "     transforms.Normalize((0.5, 0.5, 0.5), (0.5, 0.5, 0.5))])\n",
    "\n",
    "transform = transforms.Compose(\n",
    "    [transforms.ToTensor(),\n",
    "     transforms.Resize((256, 256)),\n",
    "     transforms.Normalize((0.5, 0.5, 0.5), (0.5, 0.5, 0.5))])"
   ]
  },
  {
   "cell_type": "code",
   "execution_count": 54,
   "metadata": {},
   "outputs": [],
   "source": [
    "train = datasets.OxfordIIITPet(\"\", split=\"trainval\", transform=affine_transform, target_types=\"binary-category\", download=True).__add__(datasets.OxfordIIITPet(\"\", split=\"trainval\", transform=transform, target_types=\"binary-category\", download=True))\n",
    "test = datasets.OxfordIIITPet(\"\", split=\"test\", transform=transform, target_types=\"binary-category\", download=True)"
   ]
  },
  {
   "cell_type": "code",
   "execution_count": 55,
   "metadata": {},
   "outputs": [],
   "source": [
    "model = torch.load('model.pth', map_location=device, weights_only=False).to(device)"
   ]
  },
  {
   "cell_type": "code",
   "execution_count": 56,
   "metadata": {},
   "outputs": [],
   "source": [
    "criterion = nn.BCELoss().to(device)\n",
    "optimizer = optim.SGD(model.parameters(), lr=0.001, momentum=0.9)\n",
    "metrics = {\"Accuracy\":BinaryAccuracy(device=device), \"Recall\": BinaryRecall(device=device), \"Precision\":BinaryPrecision(device=device)}"
   ]
  },
  {
   "cell_type": "code",
   "execution_count": 57,
   "metadata": {},
   "outputs": [],
   "source": [
    "trainloader = torch.utils.data.DataLoader(train, batch_size=batch_size, shuffle=True, generator=torch.Generator(device=device).manual_seed(0))"
   ]
  },
  {
   "cell_type": "code",
   "execution_count": 58,
   "metadata": {},
   "outputs": [
    {
     "name": "stdout",
     "output_type": "stream",
     "text": [
      "[1, 10/115] loss: 0.27667738646268847 Accuracy: 0.880 Recall: 0.922 Precision: 0.898 \n",
      "[1, 20/115] loss: 0.21343095153570174 Accuracy: 0.898 Recall: 0.938 Precision: 0.913 \n",
      "[1, 30/115] loss: 0.24370730966329573 Accuracy: 0.896 Recall: 0.940 Precision: 0.908 \n",
      "[1, 40/115] loss: 0.19823341965675353 Accuracy: 0.898 Recall: 0.935 Precision: 0.916 \n",
      "[1, 50/115] loss: 0.2171710893511772 Accuracy: 0.902 Recall: 0.940 Precision: 0.917 \n",
      "[1, 60/115] loss: 0.19047725349664688 Accuracy: 0.905 Recall: 0.944 Precision: 0.918 \n",
      "[1, 70/115] loss: 0.1857640914618969 Accuracy: 0.908 Recall: 0.944 Precision: 0.922 \n",
      "[1, 80/115] loss: 0.15513026118278503 Accuracy: 0.912 Recall: 0.947 Precision: 0.924 \n",
      "[1, 90/115] loss: 0.16650660187005997 Accuracy: 0.914 Recall: 0.949 Precision: 0.925 \n",
      "[1, 100/115] loss: 0.14292916655540466 Accuracy: 0.916 Recall: 0.950 Precision: 0.929 \n",
      "[1, 110/115] loss: 0.18078498542308807 Accuracy: 0.917 Recall: 0.950 Precision: 0.929 \n",
      "[1, 115/115] loss: 0.153315232694149 Accuracy: 0.917 Recall: 0.951 Precision: 0.928 \n"
     ]
    }
   ],
   "source": [
    "batches = len(trainloader)\n",
    "for epoch in range(1):\n",
    "    running_loss = 0.0\n",
    "    for i, data in enumerate(trainloader, 0):\n",
    "        inputs, labels = data\n",
    "        inputs, labels = inputs.to(device), labels.to(device).to(torch.float32)\n",
    "        optimizer.zero_grad()\n",
    "\n",
    "        outputs = model(inputs)\n",
    "        loss = criterion(outputs, labels)\n",
    "        loss.backward()\n",
    "        optimizer.step()\n",
    "\n",
    "        running_loss += loss.item()\n",
    "        for _,metric in metrics.items():\n",
    "            metric.update(outputs, labels.to(torch.long))\n",
    "        if i % 10 == 9 or i == batches - 1:\n",
    "            print(f'[{epoch + 1}, {i + 1}/{batches}] loss: {running_loss / (batches%10 if i == batches-1 else 10)}', end=' ')\n",
    "\n",
    "            for name,metric in metrics.items():\n",
    "                print(f'{name}: {metric.compute():.3f}', end=' ')\n",
    "            print()\n",
    "            running_loss = 0.0"
   ]
  },
  {
   "cell_type": "code",
   "execution_count": 59,
   "metadata": {},
   "outputs": [
    {
     "name": "stdout",
     "output_type": "stream",
     "text": [
      "[10/58] Accuracy: 0.670 Recall: 0.827 Precision: 0.700 \n",
      "[20/58] Accuracy: 0.666 Recall: 0.871 Precision: 0.642 \n",
      "[30/58] Accuracy: 0.706 Recall: 0.831 Precision: 0.767 \n",
      "[40/58] Accuracy: 0.716 Recall: 0.837 Precision: 0.772 \n",
      "[50/58] Accuracy: 0.712 Recall: 0.836 Precision: 0.767 \n",
      "[58/58] Accuracy: 0.698 Recall: 0.830 Precision: 0.750 \n"
     ]
    }
   ],
   "source": [
    "testloader = torch.utils.data.DataLoader(test, batch_size=batch_size, shuffle=False)\n",
    "for name,metric in metrics.items():\n",
    "    metric.reset()\n",
    "batches = len(testloader)\n",
    "for i, data in enumerate(testloader, 0):\n",
    "    inputs, labels = data\n",
    "    inputs, labels = inputs.to(device), labels.to(device).to(torch.float32)\n",
    "    outputs = model(inputs)\n",
    "    for _,metric in metrics.items():\n",
    "        metric.update(outputs, labels.to(torch.int64))\n",
    "    if i % 10 == 9 or i == batches - 1:\n",
    "        print(f'[{i + 1}/{batches}]', end=' ')\n",
    "        for name,metric in metrics.items():\n",
    "            print(f'{name}: {metric.compute():.3f}', end=' ')\n",
    "        print()"
   ]
  }
 ],
 "metadata": {
  "kernelspec": {
   "display_name": "5523Final",
   "language": "python",
   "name": "python3"
  },
  "language_info": {
   "codemirror_mode": {
    "name": "ipython",
    "version": 3
   },
   "file_extension": ".py",
   "mimetype": "text/x-python",
   "name": "python",
   "nbconvert_exporter": "python",
   "pygments_lexer": "ipython3",
   "version": "3.11.11"
  }
 },
 "nbformat": 4,
 "nbformat_minor": 2
}
